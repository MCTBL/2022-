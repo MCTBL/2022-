{
 "cells": [
  {
   "cell_type": "code",
   "execution_count": 5,
   "id": "a1b144b8",
   "metadata": {},
   "outputs": [],
   "source": [
    "import pandas as pd\n",
    "import jieba as jb\n",
    "import jieba.analyse as ana\n",
    "sheet = pd.read_excel(\"数据.xlsx\", sheet_name=\"微信公众号文章\")\n",
    "ass = []\n",
    "unass = []\n",
    "stopWords = []\n",
    "keyWords = []\n",
    "tword = open(\"停止词.txt\",encoding='utf-8')\n",
    "for word in tword:\n",
    "    word = word.replace(\"\\n\",\"\")\n",
    "    stopWords.append(word)\n",
    "tword = open(\"关键词.txt\", encoding='utf-8')\n",
    "for word in tword:\n",
    "    word = word.replace(\"\\n\",\"\")\n",
    "    keyWords.append(word)"
   ]
  },
  {
   "cell_type": "code",
   "execution_count": 6,
   "id": "54187e6a",
   "metadata": {},
   "outputs": [],
   "source": [
    "for index in range(sheet.shape[0]):\n",
    "    tempWeight = 0\n",
    "    tempContant = sheet.loc[index][2]\n",
    "    for z in ana.extract_tags(tempContant, topK=1000, withWeight=True, allowPOS=()):\n",
    "        if z[0] in keyWords:\n",
    "            tempWeight += z[1]\n",
    "    if tempWeight > 0.3:\n",
    "        ass.append(index)\n",
    "    else:\n",
    "        unass.append(index)"
   ]
  },
  {
   "cell_type": "code",
   "execution_count": 7,
   "id": "a364fded",
   "metadata": {},
   "outputs": [],
   "source": [
    "lineOne = []\n",
    "lineTwo = []\n",
    "for i in range(sheet.shape[0]):\n",
    "    lineOne.append(\"{:0>4d}\".format(i+1))\n",
    "    if i in ass:\n",
    "        lineTwo.append(\"相关\")\n",
    "    else :\n",
    "        lineTwo.append(\"不相关\")\n",
    "tempFrame = pd.DataFrame({\"文章ID\":lineOne, \"分类标签\":lineTwo})"
   ]
  },
  {
   "cell_type": "code",
   "execution_count": 138,
   "id": "dad8afed",
   "metadata": {},
   "outputs": [],
   "source": [
    "tempFrame.to_csv(\"result1.csv\", index=False, encoding=\"utf8\")"
   ]
  }
 ],
 "metadata": {
  "kernelspec": {
   "display_name": "Python 3 (ipykernel)",
   "language": "python",
   "name": "python3"
  },
  "language_info": {
   "codemirror_mode": {
    "name": "ipython",
    "version": 3
   },
   "file_extension": ".py",
   "mimetype": "text/x-python",
   "name": "python",
   "nbconvert_exporter": "python",
   "pygments_lexer": "ipython3",
   "version": "3.9.0"
  }
 },
 "nbformat": 4,
 "nbformat_minor": 5
}
